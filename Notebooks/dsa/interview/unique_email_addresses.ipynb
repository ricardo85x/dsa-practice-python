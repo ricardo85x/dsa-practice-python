{
 "cells": [
  {
   "cell_type": "markdown",
   "metadata": {},
   "source": [
    "# Unique Email Addresses\n",
    "\n",
    "Every valid email consists of a local name and a domain name, separated by the '@' sign. Besides lowercase letters, the email may contain one or more '.' or '+'.\n",
    "\n",
    "For example, in `alice@leetcode.com`, `alice` is the local name, and `leetcode.com` is the domain name.\n",
    "\n",
    "If you add periods `.` between some characters in the local name part of an email address, mail sent there will be forwarded to the same address without dots in the local name. Note that this rule does not apply to domain names.\n",
    "\n",
    "For example, `alice.z@leetcode.com` and `alicez@leetcode.com` forward to the same email address.\n",
    "\n",
    "If you add a plus `+` in the local name, everything after the first plus sign will be ignored. This allows certain emails to be filtered. Note that this rule does not apply to domain names.\n",
    "\n",
    "For example, `m.y+name@email.com` will be forwarded to `my@email.com`.\n",
    "\n",
    "It is possible to use both of these rules at the same time.\n",
    "\n",
    "Given an array of strings `emails` where we send one email to each `emails[i]`, return the number of different addresses that actually receive mails.\n",
    "\n",
    "## Example 1:\n",
    "\n",
    "**Input:** \n",
    "```plaintext\n",
    "emails = [\"test.email+alex@leetcode.com\",\"test.e.mail+bob.cathy@leetcode.com\",\"testemail+david@lee.tcode.com\"]\n",
    "```\n",
    "\n",
    "**Output:** \n",
    "```plaintext\n",
    "2\n",
    "```\n",
    "**Explanation:** \n",
    "`\"testemail@leetcode.com\"` and `\"testemail@lee.tcode.com\"` actually receive mails.\n",
    "\n",
    "## Example 2:\n",
    "\n",
    "**Input:** \n",
    "```plaintext\n",
    "emails = [\"a@leetcode.com\",\"b@leetcode.com\",\"c@leetcode.com\"]\n",
    "```\n",
    "\n",
    "**Output:** \n",
    "```plaintext\n",
    "3\n",
    "```\n",
    "\n",
    "## Constraints:\n",
    "\n",
    "- `1 <= emails.length <= 100`\n",
    "- `1 <= emails[i].length <= 100`\n",
    "- `emails[i]` consist of lowercase English letters, `+`, `.` and `@`.\n",
    "- Each `emails[i]` contains exactly one `@` character.\n",
    "- All local and domain names are non-empty.\n",
    "- Local names do not start with a `+` character.\n",
    "- Domain names end with the \".com\" suffix.\n",
    "- Domain names must contain at least one character before \".com\" suffix."
   ]
  },
  {
   "cell_type": "code",
   "execution_count": 3,
   "metadata": {},
   "outputs": [
    {
     "name": "stdout",
     "output_type": "stream",
     "text": [
      "6\n"
     ]
    }
   ],
   "source": [
    "import _bootstrap\n",
    "\n",
    "from modules.utils.list import ListNode\n",
    "\n",
    "node1 = ListNode(6)\n",
    "\n",
    "print(node1.val)"
   ]
  }
 ],
 "metadata": {
  "kernelspec": {
   "display_name": "Python 3 (ipykernel)",
   "language": "python",
   "name": "python3"
  },
  "language_info": {
   "codemirror_mode": {
    "name": "ipython",
    "version": 3
   },
   "file_extension": ".py",
   "mimetype": "text/x-python",
   "name": "python",
   "nbconvert_exporter": "python",
   "pygments_lexer": "ipython3",
   "version": "3.12.3"
  }
 },
 "nbformat": 4,
 "nbformat_minor": 4
}
