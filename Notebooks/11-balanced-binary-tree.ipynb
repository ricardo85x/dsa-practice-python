{
 "cells": [
  {
   "cell_type": "markdown",
   "metadata": {},
   "source": [
    "# Balanced Binary Tree\n",
    "\n",
    "Given a binary tree, determine if it is **height-balanced**.\n",
    "\n",
    "### Examples\n",
    "\n",
    "**Example 1:**\n",
    "- **Input:** `root = [3,9,20,null,null,15,7]`\n",
    "- **Output:** `true`\n",
    "\n",
    "**Example 2:**\n",
    "- **Input:** `root = [1,2,2,3,3,null,null,4,4]`\n",
    "- **Output:** `false`\n",
    "\n",
    "**Example 3:**\n",
    "- **Input:** `root = []`\n",
    "- **Output:** `true`\n",
    "\n",
    "### Constraints:\n",
    "- The number of nodes in the tree is in the range `[0, 5000]`.\n",
    "- `-10^4 <= Node.val <= 10^4`\n"
   ]
  },
  {
   "cell_type": "code",
   "execution_count": 28,
   "metadata": {},
   "outputs": [],
   "source": [
    "from rcd_package.tree_utils import TreeNode, lst_to_tree\n",
    "from collections import deque\n",
    "\n",
    "def is_balanced_helper(node: TreeNode) -> (bool, int):\n",
    "    if not node:\n",
    "        return True, -1\n",
    "    \n",
    "    left_balanced, left_height = is_balanced_helper(node.left)\n",
    "    if not left_balanced:\n",
    "        return False, 0\n",
    "    \n",
    "    right_balanced, right_height = is_balanced_helper(node.right)\n",
    "    if not right_balanced:\n",
    "        return False, 0\n",
    "    \n",
    "    is_current_balanced = abs(left_height - right_height) < 2\n",
    "    current_height = 1 + max(left_height, right_height)\n",
    "    \n",
    "    return is_current_balanced, current_height\n",
    "    \n",
    "    \n",
    "def is_balanced(root: TreeNode) -> bool:\n",
    "    balanced, _ =  is_balanced_helper(root)\n",
    "    return balanced "
   ]
  },
  {
   "cell_type": "code",
   "execution_count": 29,
   "metadata": {},
   "outputs": [],
   "source": [
    "import unittest\n",
    "class TestDSA(unittest.TestCase):\n",
    "    \n",
    "    def test_example1(self):\n",
    "        root = lst_to_tree([3,9,20,None,None,15,7])\n",
    "        expected_output = True\n",
    "        self.assertEqual(is_balanced(root), expected_output)\n",
    "        \n",
    "    def test_example2(self):\n",
    "        root = lst_to_tree([1,2,2,3,3,None,None,4,4])\n",
    "        expected_output = False\n",
    "        self.assertEqual(is_balanced(root), expected_output)\n",
    "        \n",
    "    def test_example3(self):\n",
    "        root = lst_to_tree([])\n",
    "        expected_output = True\n",
    "        self.assertEqual(is_balanced(root), expected_output)"
   ]
  },
  {
   "cell_type": "code",
   "execution_count": 30,
   "metadata": {},
   "outputs": [
    {
     "name": "stderr",
     "output_type": "stream",
     "text": [
      "...\n",
      "----------------------------------------------------------------------\n",
      "Ran 3 tests in 0.005s\n",
      "\n",
      "OK\n"
     ]
    },
    {
     "data": {
      "text/plain": [
       "<unittest.main.TestProgram at 0x75eaebf0f290>"
      ]
     },
     "execution_count": 30,
     "metadata": {},
     "output_type": "execute_result"
    }
   ],
   "source": [
    "unittest.main(argv=[\"\"], exit=False)"
   ]
  }
 ],
 "metadata": {
  "kernelspec": {
   "display_name": "venv",
   "language": "python",
   "name": "python3"
  },
  "language_info": {
   "codemirror_mode": {
    "name": "ipython",
    "version": 3
   },
   "file_extension": ".py",
   "mimetype": "text/x-python",
   "name": "python",
   "nbconvert_exporter": "python",
   "pygments_lexer": "ipython3",
   "version": "3.12.3"
  }
 },
 "nbformat": 4,
 "nbformat_minor": 2
}
