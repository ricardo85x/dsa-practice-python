{
 "cells": [
  {
   "cell_type": "markdown",
   "metadata": {},
   "source": [
    "\n",
    "# Binary Search\n",
    "\n",
    "### Problem Statement\n",
    "Given an array of integers `nums` which is sorted in ascending order, and an integer `target`, write a function to search for `target` in `nums`. If `target` exists, then return its index. Otherwise, return -1.\n",
    "\n",
    "You must write an algorithm with O(log n) runtime complexity.\n",
    "\n",
    "### Examples\n",
    "\n",
    "**Example 1:**\n",
    "```\n",
    "Input: nums = [-1, 0, 3, 5, 9, 12], target = 9\n",
    "Output: 4\n",
    "Explanation: 9 exists in nums and its index is 4\n",
    "```\n",
    "\n",
    "**Example 2:**\n",
    "```\n",
    "Input: nums = [-1, 0, 3, 5, 9, 12], target = 2\n",
    "Output: -1\n",
    "Explanation: 2 does not exist in nums so return -1\n",
    "```\n",
    "\n",
    "### Constraints\n",
    "- `1 <= nums.length <= 10^4`\n",
    "- `-10^4 < nums[i], target < 10^4`\n",
    "- All the integers in `nums` are unique.\n",
    "- `nums` is sorted in ascending order.\n"
   ]
  },
  {
   "cell_type": "code",
   "execution_count": 10,
   "metadata": {},
   "outputs": [],
   "source": [
    "def binary_search(nums: list[int], target: int) -> int:\n",
    "    \n",
    "    left = 0\n",
    "    right = len(nums) - 1\n",
    "        \n",
    "    while left <= right:\n",
    "        \n",
    "        mid = (left + right) // 2\n",
    "        if nums[mid] == target:\n",
    "            return mid\n",
    "        \n",
    "        if nums[mid] > target:\n",
    "            right = mid -1\n",
    "        else:\n",
    "            left = mid + 1\n",
    "            \n",
    "    \n",
    "    return -1"
   ]
  },
  {
   "cell_type": "code",
   "execution_count": 11,
   "metadata": {},
   "outputs": [],
   "source": [
    "import unittest\n",
    "\n",
    "class TestDSA(unittest.TestCase):\n",
    "    \n",
    "    def test_example1(self):\n",
    "        nums = [-1,0,3,5,9,12]\n",
    "        target = 9\n",
    "        expected_output = 4\n",
    "        \n",
    "        self.assertEqual(binary_search(nums, target), expected_output)\n",
    "        \n",
    "    def test_example2(self):\n",
    "        nums = [-1,0,3,5,9,12]\n",
    "        target = 2\n",
    "        expected_output = -1\n",
    "        \n",
    "        self.assertEqual(binary_search(nums, target), expected_output)\n",
    "        "
   ]
  },
  {
   "cell_type": "code",
   "execution_count": 12,
   "metadata": {},
   "outputs": [
    {
     "name": "stderr",
     "output_type": "stream",
     "text": [
      "..\n",
      "----------------------------------------------------------------------\n",
      "Ran 2 tests in 0.002s\n",
      "\n",
      "OK\n"
     ]
    },
    {
     "data": {
      "text/plain": [
       "<unittest.main.TestProgram at 0x794fb44204d0>"
      ]
     },
     "execution_count": 12,
     "metadata": {},
     "output_type": "execute_result"
    }
   ],
   "source": [
    "unittest.main(argv=[''], exit=False)"
   ]
  }
 ],
 "metadata": {
  "kernelspec": {
   "display_name": "venv",
   "language": "python",
   "name": "python3"
  },
  "language_info": {
   "codemirror_mode": {
    "name": "ipython",
    "version": 3
   },
   "file_extension": ".py",
   "mimetype": "text/x-python",
   "name": "python",
   "nbconvert_exporter": "python",
   "pygments_lexer": "ipython3",
   "version": "3.12.3"
  }
 },
 "nbformat": 4,
 "nbformat_minor": 2
}
