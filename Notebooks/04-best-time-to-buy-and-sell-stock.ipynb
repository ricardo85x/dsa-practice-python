{
 "cells": [
  {
   "cell_type": "markdown",
   "metadata": {},
   "source": [
    "# Best Time to Buy and Sell Stock\n",
    "\n",
    "You are given an array `prices` where `prices[i]` is the price of a given stock on the `i`th day.\n",
    "\n",
    "You want to maximize your profit by choosing a single day to buy one stock and choosing a different day in the future to sell that stock.\n",
    "\n",
    "Return the maximum profit you can achieve from this transaction. If you cannot achieve any profit, return 0.\n",
    "\n",
    "## Examples\n",
    "\n",
    "### Example 1:\n",
    "**Input:** \n",
    "```plaintext\n",
    "prices = [7,1,5,3,6,4]\n",
    "```\n",
    "**Output:** \n",
    "```plaintext\n",
    "5\n",
    "```\n",
    "**Explanation:** \n",
    "Buy on day 2 (price = 1) and sell on day 5 (price = 6), profit = 6 - 1 = 5.  \n",
    "Note that buying on day 2 and selling on day 1 is not allowed because you must buy before you sell.\n",
    "\n",
    "### Example 2:\n",
    "**Input:** \n",
    "```plaintext\n",
    "prices = [7,6,4,3,1]\n",
    "```\n",
    "**Output:** \n",
    "```plaintext\n",
    "0\n",
    "```\n",
    "**Explanation:** \n",
    "In this case, no transactions are done and the max profit = 0.\n",
    "\n",
    "## Constraints\n",
    "- `1 <= prices.length <= 10^5`\n",
    "- `0 <= prices[i] <= 10^4`\n"
   ]
  },
  {
   "cell_type": "code",
   "execution_count": 5,
   "metadata": {},
   "outputs": [
    {
     "name": "stderr",
     "output_type": "stream",
     "text": [
      "..\n",
      "----------------------------------------------------------------------\n",
      "Ran 2 tests in 0.002s\n",
      "\n",
      "OK\n"
     ]
    },
    {
     "data": {
      "text/plain": [
       "<unittest.main.TestProgram at 0x7f9b4f54d4c0>"
      ]
     },
     "execution_count": 5,
     "metadata": {},
     "output_type": "execute_result"
    }
   ],
   "source": [
    "def max_profit(prices: list[int]) -> int:\n",
    "        result = 0\n",
    "        min_val = prices[0]\n",
    "\n",
    "        for i in range(1, len(prices)):\n",
    "            min_val = min(min_val, prices[i-1])\n",
    "            result = max(result, prices[i] - min_val)\n",
    "            \n",
    "        return result\n",
    "\n",
    "\n",
    "import unittest\n",
    "\n",
    "class TestDSA(unittest.TestCase):\n",
    "    def test_example1(self):\n",
    "        prices = [7,1,5,3,6,4]\n",
    "        expected_output = 5\n",
    "        self.assertEqual(max_profit(prices), expected_output)\n",
    "        \n",
    "    def test_example2(self):\n",
    "        prices = [7,6,4,3,1]\n",
    "        expected_output = 0\n",
    "        self.assertEqual(max_profit(prices), expected_output)\n",
    "        \n",
    "\n",
    "unittest.main(argv=[''], exit=False)\n",
    "        \n",
    "        "
   ]
  }
 ],
 "metadata": {
  "kernelspec": {
   "display_name": "venv",
   "language": "python",
   "name": "python3"
  },
  "language_info": {
   "codemirror_mode": {
    "name": "ipython",
    "version": 3
   },
   "file_extension": ".py",
   "mimetype": "text/x-python",
   "name": "python",
   "nbconvert_exporter": "python",
   "pygments_lexer": "ipython3",
   "version": "3.12.3"
  }
 },
 "nbformat": 4,
 "nbformat_minor": 2
}
