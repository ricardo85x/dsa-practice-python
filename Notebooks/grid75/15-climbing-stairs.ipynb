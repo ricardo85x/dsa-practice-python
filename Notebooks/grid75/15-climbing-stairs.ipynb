{
 "cells": [
  {
   "cell_type": "markdown",
   "metadata": {},
   "source": [
    "# Climbing Stairs\n",
    "\n",
    "You are climbing a staircase. It takes `n` steps to reach the top.\n",
    "\n",
    "Each time you can either climb 1 or 2 steps. \n",
    "\n",
    "In how many distinct ways can you climb to the top?\n",
    "\n",
    "## Example 1:\n",
    "\n",
    "**Input:** `n = 2`  \n",
    "**Output:** `2`  \n",
    "**Explanation:** There are two ways to climb to the top.  \n",
    "1. 1 step + 1 step  \n",
    "2. 2 steps\n",
    "\n",
    "## Example 2:\n",
    "\n",
    "**Input:** `n = 3`  \n",
    "**Output:** `3`  \n",
    "**Explanation:** There are three ways to climb to the top.  \n",
    "1. 1 step + 1 step + 1 step  \n",
    "2. 1 step + 2 steps  \n",
    "3. 2 steps + 1 step\n",
    "\n",
    "## Constraints:\n",
    "\n",
    "- `1 <= n <= 45`\n"
   ]
  },
  {
   "cell_type": "code",
   "execution_count": 6,
   "metadata": {},
   "outputs": [],
   "source": [
    "def climb_stairs(n: int) -> int:\n",
    "    \n",
    "    memo = {}\n",
    "    \n",
    "    def climb(i: int) -> int:\n",
    "        if i > n:\n",
    "            return 0\n",
    "        if i == n:\n",
    "            return 1\n",
    "        \n",
    "        if i in memo:\n",
    "            return memo[i]\n",
    "        \n",
    "        memo[i] = climb(i + 1) + climb(i + 2)\n",
    "        \n",
    "        return memo[i] \n",
    "        \n",
    "    return climb(0)\n"
   ]
  },
  {
   "cell_type": "code",
   "execution_count": 7,
   "metadata": {},
   "outputs": [
    {
     "name": "stderr",
     "output_type": "stream",
     "text": [
      "...\n",
      "----------------------------------------------------------------------\n",
      "Ran 3 tests in 0.002s\n",
      "\n",
      "OK\n"
     ]
    },
    {
     "data": {
      "text/plain": [
       "<unittest.main.TestProgram at 0x76c43e54cc20>"
      ]
     },
     "execution_count": 7,
     "metadata": {},
     "output_type": "execute_result"
    }
   ],
   "source": [
    "import unittest\n",
    "\n",
    "class TestDSA(unittest.TestCase):\n",
    "    \n",
    "    def test_example_1(self):\n",
    "        n = 2\n",
    "        expected = 2\n",
    "        self.assertEqual(climb_stairs(n), expected)\n",
    "        \n",
    "    def test_example_2(self):\n",
    "        n = 3\n",
    "        expected = 3\n",
    "        self.assertEqual(climb_stairs(n), expected)\n",
    "        \n",
    "    def test_example_3(self):\n",
    "        n = 4\n",
    "        expected = 5\n",
    "        self.assertEqual(climb_stairs(n), expected)\n",
    "        \n",
    "unittest.main(argv=[\"\"], exit=False)"
   ]
  }
 ],
 "metadata": {
  "kernelspec": {
   "display_name": "venv",
   "language": "python",
   "name": "python3"
  },
  "language_info": {
   "codemirror_mode": {
    "name": "ipython",
    "version": 3
   },
   "file_extension": ".py",
   "mimetype": "text/x-python",
   "name": "python",
   "nbconvert_exporter": "python",
   "pygments_lexer": "ipython3",
   "version": "3.12.3"
  }
 },
 "nbformat": 4,
 "nbformat_minor": 2
}
