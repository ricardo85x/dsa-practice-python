{
 "cells": [
  {
   "cell_type": "markdown",
   "metadata": {},
   "source": [
    "# Invert Binary Tree\n",
    "\n",
    "Given the root of a binary tree, invert the tree, and return its root.\n",
    "\n",
    "## Examples\n",
    "\n",
    "### Example 1:\n",
    "**Input:** `root = [4,2,7,1,3,6,9]`  \n",
    "**Output:** `[4,7,2,9,6,3,1]`\n",
    "\n",
    "### Example 2:\n",
    "**Input:** `root = [2,1,3]`  \n",
    "**Output:** `[2,3,1]`\n",
    "\n",
    "### Example 3:\n",
    "**Input:** `root = []`  \n",
    "**Output:** `[]`\n",
    "\n",
    "## Constraints:\n",
    "- The number of nodes in the tree is in the range `[0, 100]`.\n",
    "- `-100 <= Node.val <= 100`\n"
   ]
  },
  {
   "cell_type": "code",
   "execution_count": 70,
   "metadata": {},
   "outputs": [],
   "source": [
    "from collections import deque\n",
    "\n",
    "\n",
    "class TreeNode:\n",
    "    def __init__(self, val=0, left=None, right=None):\n",
    "        self.val = val\n",
    "        self.left = left\n",
    "        self.right = right\n",
    "        \n",
    "\n",
    "def list_to_tree(lst) -> TreeNode: \n",
    "    if not lst:\n",
    "        return None\n",
    "    nodes = [TreeNode(val) if val is not None else None for val in lst]\n",
    "    for i, node in enumerate(nodes):\n",
    "        if node:\n",
    "            if 2 * i + 1 < len(nodes):\n",
    "                node.left = nodes[2 * i + 1]\n",
    "            if 2 * i + 2 < len(nodes):\n",
    "                node.right = nodes[2 * i + 2]\n",
    "    return nodes[0]\n",
    "\n",
    "\n",
    "def tree_to_list(root: TreeNode) -> list:\n",
    "    if not root:\n",
    "        return []\n",
    "    \n",
    "    result = []\n",
    "    queue = deque([root])\n",
    "    \n",
    "    while queue:\n",
    "        node = queue.popleft()\n",
    "        if node:\n",
    "            result.append(node.val)\n",
    "            queue.append(node.left)\n",
    "            queue.append(node.right)\n",
    "        else:\n",
    "            result.append(None) \n",
    "\n",
    "    while result and result[-1] is None:\n",
    "        result.pop()\n",
    "    \n",
    "    return result"
   ]
  },
  {
   "cell_type": "code",
   "execution_count": 71,
   "metadata": {},
   "outputs": [],
   "source": [
    "def invert_tree(root: TreeNode) -> TreeNode:\n",
    "    \n",
    "    if not root:\n",
    "        return None\n",
    "    \n",
    "    queue = deque([root])\n",
    "    \n",
    "    while queue:\n",
    "        current = queue.popleft()\n",
    "        \n",
    "        current.left, current.right = current.right, current.left\n",
    "        \n",
    "        if current.left:\n",
    "            queue.append(current.left)\n",
    "        if current.right:\n",
    "            queue.append(current.right)\n",
    "    \n",
    "    return root"
   ]
  },
  {
   "cell_type": "code",
   "execution_count": 72,
   "metadata": {},
   "outputs": [],
   "source": [
    "import unittest\n",
    "\n",
    "class TestDSA(unittest.TestCase):\n",
    "    \n",
    "    def test_example_1(self):\n",
    "        root = [4,2,7,1,3,6,9]\n",
    "        root_tree = list_to_tree(root)\n",
    "        expected_output =  [4,7,2,9,6,3,1]\n",
    "        \n",
    "        result = tree_to_list(\n",
    "            invert_tree(root_tree)\n",
    "        )\n",
    "        \n",
    "        self.assertEqual(result, expected_output)\n",
    "        \n",
    "    def test_example_2(self):\n",
    "        root = [2,1,3]\n",
    "        root_tree = list_to_tree(root)\n",
    "        expected_output =  [2,3,1]\n",
    "        \n",
    "        result = tree_to_list(\n",
    "            invert_tree(root_tree)\n",
    "        )\n",
    "        \n",
    "        self.assertEqual(result, expected_output)\n",
    "        \n",
    "    def test_example_3(self):\n",
    "        root = []\n",
    "        root_tree = list_to_tree(root)\n",
    "        expected_output =  []\n",
    "        \n",
    "        result = tree_to_list(\n",
    "            invert_tree(root_tree)\n",
    "        )\n",
    "        \n",
    "        self.assertEqual(result, expected_output)\n",
    "        \n",
    "    def test_example_4(self):\n",
    "        root = [1,2]\n",
    "        root_tree = list_to_tree(root)\n",
    "        expected_output =  [1, None, 2]\n",
    "        \n",
    "        result = tree_to_list(\n",
    "            invert_tree(root_tree)\n",
    "        )\n",
    "        \n",
    "        self.assertEqual(result, expected_output)\n",
    "        \n"
   ]
  },
  {
   "cell_type": "code",
   "execution_count": 73,
   "metadata": {},
   "outputs": [
    {
     "name": "stderr",
     "output_type": "stream",
     "text": [
      "....\n",
      "----------------------------------------------------------------------\n",
      "Ran 4 tests in 0.007s\n",
      "\n",
      "OK\n"
     ]
    },
    {
     "data": {
      "text/plain": [
       "<unittest.main.TestProgram at 0x71a53c004950>"
      ]
     },
     "execution_count": 73,
     "metadata": {},
     "output_type": "execute_result"
    }
   ],
   "source": [
    "unittest.main(argv=[''], exit=False)"
   ]
  }
 ],
 "metadata": {
  "kernelspec": {
   "display_name": "venv",
   "language": "python",
   "name": "python3"
  },
  "language_info": {
   "codemirror_mode": {
    "name": "ipython",
    "version": 3
   },
   "file_extension": ".py",
   "mimetype": "text/x-python",
   "name": "python",
   "nbconvert_exporter": "python",
   "pygments_lexer": "ipython3",
   "version": "3.12.3"
  }
 },
 "nbformat": 4,
 "nbformat_minor": 2
}
