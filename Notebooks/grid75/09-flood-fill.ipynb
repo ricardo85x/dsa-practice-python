{
 "cells": [
  {
   "cell_type": "markdown",
   "metadata": {},
   "source": [
    "# Flood Fill\n",
    "\n",
    "You are given an image represented by an `m x n` grid of integers `image`, where `image[i][j]` represents the pixel value of the image. \n",
    "\n",
    "You are also given three integers `sr`, `sc`, and `color`. \n",
    "\n",
    "Your task is to perform a flood fill on the image starting from the pixel `image[sr][sc]`.\n",
    "\n",
    "### To perform a flood fill:\n",
    "\n",
    "1. Begin with the starting pixel and change its color to `color`.\n",
    "2. Perform the same process for each pixel that is directly adjacent (pixels that share a side with the original pixel, either horizontally or vertically) and shares the same color as the starting pixel.\n",
    "3. Keep repeating this process by checking neighboring pixels of the updated pixels and modifying their color if it matches the original color of the starting pixel.\n",
    "4. The process stops when there are no more adjacent pixels of the original color to update.\n",
    "\n",
    "Return the modified image after performing the flood fill.\n",
    "\n",
    "### Example 1:\n",
    "\n",
    "**Input:** \n",
    "```plaintext\n",
    "image = [\n",
    "    [1,1,1],\n",
    "    [1,1,0],\n",
    "    [1,0,1]\n",
    "], \n",
    "\n",
    "sr = 1, sc = 1, color = 2\n",
    "```\n",
    "\n",
    "**Output:** \n",
    "```plaintext\n",
    "[\n",
    "    [2,2,2],\n",
    "    [2,2,0],\n",
    "    [2,0,1]\n",
    "    \n",
    "]\n",
    "```\n",
    "\n",
    "**Explanation:**\n",
    "From the center of the image with position `(sr, sc) = (1, 1)` (i.e., the red pixel), all pixels connected by a path of the same color as the starting pixel (i.e., the blue pixels) are colored with the new color. Note the bottom corner is not colored `2`, because it is not horizontally or vertically connected to the starting pixel.\n",
    "\n",
    "### Example 2:\n",
    "\n",
    "**Input:** \n",
    "```plaintext\n",
    "image = [\n",
    "    [0,0,0],\n",
    "    [0,0,0]\n",
    "], \n",
    "\n",
    "sr = 0, sc = 0, color = 0\n",
    "```\n",
    "\n",
    "**Output:** \n",
    "```plaintext\n",
    "[\n",
    "    [0,0,0],\n",
    "    [0,0,0]\n",
    "]\n",
    "```\n",
    "\n",
    "**Explanation:**\n",
    "The starting pixel is already colored with `0`, which is the same as the target color. \n",
    "\n",
    "Therefore, no changes are made to the image.\n",
    "\n",
    "### Constraints:\n",
    "\n",
    "- `m == image.length`\n",
    "- `n == image[i].length`\n",
    "- `1 <= m, n <= 50`\n",
    "- `0 <= image[i][j], color < 2^16`\n",
    "- `0 <= sr < m`\n",
    "- `0 <= sc < n`\n",
    "\n"
   ]
  },
  {
   "cell_type": "code",
   "execution_count": 18,
   "metadata": {},
   "outputs": [],
   "source": [
    "def flood_fill(image: list[list[int]], sr: int, sc: int, color: int) -> list[list[int]]:\n",
    "\n",
    "    row_size = len(image)\n",
    "    col_size = len(image[0])\n",
    "    initial_color = image[sr][sc]\n",
    "    \n",
    "    if initial_color == color:\n",
    "        return image\n",
    "    \n",
    "    def dfs(row, col):\n",
    "        if image[row][col] == initial_color:\n",
    "            image[row][col] = color\n",
    "            # go up\n",
    "            if row >= 1: \n",
    "                dfs(row -1, col)\n",
    "            # go left\n",
    "            if col >= 1:\n",
    "                dfs(row, col -1)\n",
    "            # go down\n",
    "            if row < row_size -1:\n",
    "                dfs(row +1, col)\n",
    "            # go right\n",
    "            if col < col_size -1:\n",
    "                dfs(row, col + 1)\n",
    "\n",
    "    dfs(sr, sc)\n",
    "    \n",
    "    return image\n",
    "    \n",
    "    "
   ]
  },
  {
   "cell_type": "code",
   "execution_count": 19,
   "metadata": {},
   "outputs": [],
   "source": [
    "import unittest\n",
    "\n",
    "class TestDSA(unittest.TestCase):\n",
    "    \n",
    "    def test_example1(self):\n",
    "        image = [[1,1,1],[1,1,0],[1,0,1]]\n",
    "        sr = 1\n",
    "        sc = 1\n",
    "        color = 2\n",
    "        expected_output = [[2,2,2],[2,2,0],[2,0,1]]\n",
    "        \n",
    "        self.assertEqual(flood_fill(image, sr, sc, color), expected_output)\n",
    "        \n",
    "    def test_example2(self):\n",
    "        image = [[0,0,0],[0,0,0]]\n",
    "        sr = 0\n",
    "        sc = 0\n",
    "        color = 0\n",
    "        expected_output = [[0,0,0],[0,0,0]]\n",
    "        \n",
    "        self.assertEqual(flood_fill(image, sr, sc, color), expected_output)"
   ]
  },
  {
   "cell_type": "code",
   "execution_count": 20,
   "metadata": {},
   "outputs": [
    {
     "name": "stderr",
     "output_type": "stream",
     "text": [
      "..\n",
      "----------------------------------------------------------------------\n",
      "Ran 2 tests in 0.002s\n",
      "\n",
      "OK\n"
     ]
    },
    {
     "data": {
      "text/plain": [
       "<unittest.main.TestProgram at 0x7405c81707d0>"
      ]
     },
     "execution_count": 20,
     "metadata": {},
     "output_type": "execute_result"
    }
   ],
   "source": [
    "unittest.main(argv=[\"\"], exit=False)"
   ]
  }
 ],
 "metadata": {
  "kernelspec": {
   "display_name": "venv",
   "language": "python",
   "name": "python3"
  },
  "language_info": {
   "codemirror_mode": {
    "name": "ipython",
    "version": 3
   },
   "file_extension": ".py",
   "mimetype": "text/x-python",
   "name": "python",
   "nbconvert_exporter": "python",
   "pygments_lexer": "ipython3",
   "version": "3.12.3"
  }
 },
 "nbformat": 4,
 "nbformat_minor": 2
}
