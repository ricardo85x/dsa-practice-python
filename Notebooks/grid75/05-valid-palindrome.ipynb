{
 "cells": [
  {
   "cell_type": "markdown",
   "metadata": {},
   "source": [
    "# Valid Palindrome\n",
    "\n",
    "## Description\n",
    "\n",
    "A phrase is a palindrome if, after converting all uppercase letters into lowercase letters and removing all non-alphanumeric characters, it reads the same forward and backward. Alphanumeric characters include letters and numbers.\n",
    "\n",
    "Given a string `s`, return `true` if it is a palindrome, or `false` otherwise.\n",
    "\n",
    "## Examples\n",
    "\n",
    "### Example 1\n",
    "\n",
    "**Input:** `s = \"A man, a plan, a canal: Panama\"`  \n",
    "**Output:** `true`  \n",
    "**Explanation:** `\"amanaplanacanalpanama\"` is a palindrome.\n",
    "\n",
    "### Example 2\n",
    "\n",
    "**Input:** `s = \"race a car\"`  \n",
    "**Output:** `false`  \n",
    "**Explanation:** `\"raceacar\"` is not a palindrome.\n",
    "\n",
    "### Example 3\n",
    "\n",
    "**Input:** `s = \" \"`  \n",
    "**Output:** `true`  \n",
    "**Explanation:** `s` is an empty string `\"\"` after removing non-alphanumeric characters. Since an empty string reads the same forward and backward, it is a palindrome.\n",
    "\n",
    "## Constraints\n",
    "\n",
    "- `1 <= s.length <= 2 * 10^5`\n",
    "- `s` consists only of printable ASCII characters.\n"
   ]
  },
  {
   "cell_type": "code",
   "execution_count": 28,
   "metadata": {},
   "outputs": [
    {
     "name": "stderr",
     "output_type": "stream",
     "text": [
      ".....\n",
      "----------------------------------------------------------------------\n",
      "Ran 5 tests in 0.008s\n",
      "\n",
      "OK\n"
     ]
    },
    {
     "data": {
      "text/plain": [
       "<unittest.main.TestProgram at 0x7534cb5ef020>"
      ]
     },
     "execution_count": 28,
     "metadata": {},
     "output_type": "execute_result"
    }
   ],
   "source": [
    "def is_palindrome(s: str) -> bool:       \n",
    "        left = 0\n",
    "        right = len(s) - 1\n",
    "        \n",
    "        while left < right:\n",
    "            \n",
    "            while left < right and not s[left].isalnum():\n",
    "                left += 1\n",
    "            \n",
    "            while left < right and not s[right].isalnum():\n",
    "                right -= 1\n",
    "                \n",
    "            if s[left].lower() != s[right].lower():\n",
    "                return False\n",
    "            \n",
    "            left += 1\n",
    "            right -= 1\n",
    "        \n",
    "        return True\n",
    "\n",
    "\n",
    "import unittest\n",
    "\n",
    "class TestDSA(unittest.TestCase):\n",
    "    def test_example1(self):\n",
    "        s = \"A man, a plan, a canal: Panama\"\n",
    "        expected_output = True\n",
    "        self.assertEqual(is_palindrome(s), expected_output)\n",
    "        \n",
    "    def test_example2(self):\n",
    "        s = \"race a car\"\n",
    "        expected_output = False\n",
    "        self.assertEqual(is_palindrome(s), expected_output)\n",
    "        \n",
    "    def test_example3(self):\n",
    "        s = \" \"\n",
    "        expected_output = True\n",
    "        self.assertEqual(is_palindrome(s), expected_output)\n",
    "        \n",
    "    def test_example4(self):\n",
    "        s = \"ab\"\n",
    "        expected_output = False\n",
    "        self.assertEqual(is_palindrome(s), expected_output)\n",
    "    \n",
    "    def test_example5(self):\n",
    "        s = \"9,8\"\n",
    "        expected_output = False\n",
    "        self.assertEqual(is_palindrome(s), expected_output)\n",
    "        \n",
    "\n",
    "unittest.main(argv=[''], exit=False)"
   ]
  }
 ],
 "metadata": {
  "kernelspec": {
   "display_name": "venv",
   "language": "python",
   "name": "python3"
  },
  "language_info": {
   "codemirror_mode": {
    "name": "ipython",
    "version": 3
   },
   "file_extension": ".py",
   "mimetype": "text/x-python",
   "name": "python",
   "nbconvert_exporter": "python",
   "pygments_lexer": "ipython3",
   "version": "3.12.3"
  }
 },
 "nbformat": 4,
 "nbformat_minor": 2
}
