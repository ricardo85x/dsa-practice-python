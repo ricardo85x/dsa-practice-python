{
 "cells": [
  {
   "cell_type": "markdown",
   "metadata": {},
   "source": [
    "# First Bad Version\n",
    "\n",
    "### Problem Description:\n",
    "\n",
    "You are a product manager leading a team to develop a new product. Unfortunately, the latest version of your product fails the quality check. Since each version is developed based on the previous version, all versions after a bad version are also bad.\n",
    "\n",
    "Suppose you have `n` versions `[1, 2, ..., n]` and you want to find the first bad one, which causes all the following versions to be bad.\n",
    "\n",
    "You are given an API `bool isBadVersion(version)` which returns whether the version is bad. Implement a function to find the first bad version. You should minimize the number of calls to the API.\n",
    "\n",
    "### Example 1:\n",
    "\n",
    "**Input:**\n",
    "```plaintext\n",
    "n = 5, bad = 4\n",
    "```\n",
    "**Output:**\n",
    "```plaintext\n",
    "4\n",
    "```\n",
    "**Explanation:**\n",
    "- Call `isBadVersion(3)` -> `false`\n",
    "- Call `isBadVersion(5)` -> `true`\n",
    "- Call `isBadVersion(4)` -> `true`\n",
    "\n",
    "Then, 4 is the first bad version.\n",
    "\n",
    "### Example 2:\n",
    "\n",
    "**Input:**\n",
    "```plaintext\n",
    "n = 1, bad = 1\n",
    "```\n",
    "**Output:**\n",
    "```plaintext\n",
    "1\n",
    "```\n",
    "\n",
    "### Constraints:\n",
    "- `1 <= bad <= n <= 2^31 - 1`\n"
   ]
  },
  {
   "cell_type": "code",
   "execution_count": 43,
   "metadata": {},
   "outputs": [],
   "source": [
    "def is_bad_version(v) -> bool:\n",
    "    return v >= 4\n",
    "\n",
    "def first_bad_version(n: int) -> int:\n",
    "    \n",
    "    first, last = 1, n\n",
    "    \n",
    "    while first < last:\n",
    "        mid = first + (last - first) // 2\n",
    "        if is_bad_version(mid):\n",
    "            last = mid\n",
    "        else:\n",
    "            first = mid + 1\n",
    "    return first"
   ]
  },
  {
   "cell_type": "code",
   "execution_count": 44,
   "metadata": {},
   "outputs": [],
   "source": [
    "import unittest\n",
    "\n",
    "class TestDSA(unittest.TestCase):\n",
    "    \n",
    "    def setUp(self):\n",
    "        self.expected = 4\n",
    "    \n",
    "    def test_example1(self):\n",
    "        n = 10\n",
    "        self.assertEqual(first_bad_version(n), self.expected)\n",
    "        \n",
    "    def test_example1(self):\n",
    "        n = 10\n",
    "        self.assertEqual(first_bad_version(n), self.expected)"
   ]
  },
  {
   "cell_type": "code",
   "execution_count": 45,
   "metadata": {},
   "outputs": [
    {
     "name": "stderr",
     "output_type": "stream",
     "text": [
      ".\n",
      "----------------------------------------------------------------------\n",
      "Ran 1 test in 0.001s\n",
      "\n",
      "OK\n"
     ]
    },
    {
     "data": {
      "text/plain": [
       "<unittest.main.TestProgram at 0x73bf34230fb0>"
      ]
     },
     "execution_count": 45,
     "metadata": {},
     "output_type": "execute_result"
    }
   ],
   "source": [
    "unittest.main(argv=[\"\"], exit=False)"
   ]
  }
 ],
 "metadata": {
  "kernelspec": {
   "display_name": "venv",
   "language": "python",
   "name": "python3"
  },
  "language_info": {
   "codemirror_mode": {
    "name": "ipython",
    "version": 3
   },
   "file_extension": ".py",
   "mimetype": "text/x-python",
   "name": "python",
   "nbconvert_exporter": "python",
   "pygments_lexer": "ipython3",
   "version": "3.12.3"
  }
 },
 "nbformat": 4,
 "nbformat_minor": 2
}
