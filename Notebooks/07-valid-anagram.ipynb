{
 "cells": [
  {
   "cell_type": "markdown",
   "metadata": {},
   "source": [
    "# Valid Anagram\n",
    "\n",
    "## Problem Statement\n",
    "Given two strings `s` and `t`, return `true` if `t` is an anagram of `s`, and `false` otherwise.\n",
    "\n",
    "## Examples\n",
    "\n",
    "**Example 1:**\n",
    "- **Input:** `s = \"anagram\"`, `t = \"nagaram\"`\n",
    "- **Output:** `true`\n",
    "\n",
    "**Example 2:**\n",
    "- **Input:** `s = \"rat\"`, `t = \"car\"`\n",
    "- **Output:** `false`\n",
    "\n",
    "## Constraints\n",
    "- `1 <= s.length, t.length <= 5 * 10^4`\n",
    "- `s` and `t` consist of lowercase English letters.\n",
    "\n",
    "## Follow-Up\n",
    "What if the inputs contain Unicode characters? How would you adapt your solution to such a case?"
   ]
  },
  {
   "cell_type": "code",
   "execution_count": 36,
   "metadata": {},
   "outputs": [],
   "source": [
    "from collections import Counter\n",
    "def is_anagram(s: str, t: str) -> bool:    \n",
    "    return len(s) == len(t) and Counter(s) == Counter(t)\n",
    "\n",
    "    \n",
    "    "
   ]
  },
  {
   "cell_type": "code",
   "execution_count": 37,
   "metadata": {},
   "outputs": [],
   "source": [
    "import unittest\n",
    "\n",
    "class TestDSA(unittest.TestCase):\n",
    "    \n",
    "    def test_example1(self):\n",
    "        s = \"anagram\"\n",
    "        t = \"nagaram\"\n",
    "        expected_output = True\n",
    "        \n",
    "        self.assertEqual(is_anagram(s,t), expected_output)\n",
    "        \n",
    "    def test_example2(self):\n",
    "        s = \"rat\"\n",
    "        t = \"car\"\n",
    "        expected_output = False\n",
    "        \n",
    "        self.assertEqual(is_anagram(s,t), expected_output)\n",
    "        \n",
    "    def test_example3(self):\n",
    "        s = \"ab\"\n",
    "        t = \"a\"\n",
    "        expected_output = False\n",
    "        \n",
    "        self.assertEqual(is_anagram(s,t), expected_output)\n",
    "        \n",
    "    "
   ]
  },
  {
   "cell_type": "code",
   "execution_count": 38,
   "metadata": {},
   "outputs": [
    {
     "name": "stderr",
     "output_type": "stream",
     "text": [
      "...\n",
      "----------------------------------------------------------------------\n",
      "Ran 3 tests in 0.005s\n",
      "\n",
      "OK\n"
     ]
    },
    {
     "data": {
      "text/plain": [
       "<unittest.main.TestProgram at 0x717eeeb8da60>"
      ]
     },
     "execution_count": 38,
     "metadata": {},
     "output_type": "execute_result"
    }
   ],
   "source": [
    "unittest.main(argv=[''], exit=False)"
   ]
  }
 ],
 "metadata": {
  "kernelspec": {
   "display_name": "venv",
   "language": "python",
   "name": "python3"
  },
  "language_info": {
   "codemirror_mode": {
    "name": "ipython",
    "version": 3
   },
   "file_extension": ".py",
   "mimetype": "text/x-python",
   "name": "python",
   "nbconvert_exporter": "python",
   "pygments_lexer": "ipython3",
   "version": "3.12.3"
  }
 },
 "nbformat": 4,
 "nbformat_minor": 2
}
