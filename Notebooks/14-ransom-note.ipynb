{
 "cells": [
  {
   "cell_type": "markdown",
   "metadata": {},
   "source": [
    "# Ransom Note\n",
    "\n",
    "Given two strings `ransomNote` and `magazine`, return `true` if `ransomNote` can be constructed by using the letters from `magazine` and `false` otherwise.\n",
    "\n",
    "Each letter in `magazine` can only be used once in `ransomNote`.\n",
    "\n",
    "### Example 1:\n",
    "**Input**:\n",
    "```text\n",
    "ransomNote = \"a\"\n",
    "magazine = \"b\"\n",
    "```\n",
    "**Output**:\n",
    "```text\n",
    "false\n",
    "```\n",
    "\n",
    "### Example 2:\n",
    "**Input**:\n",
    "```text\n",
    "ransomNote = \"aa\"\n",
    "magazine = \"ab\"\n",
    "```\n",
    "**Output**:\n",
    "```text\n",
    "false\n",
    "```\n",
    "\n",
    "### Example 3:\n",
    "**Input**:\n",
    "```text\n",
    "ransomNote = \"aa\"\n",
    "magazine = \"aab\"\n",
    "```\n",
    "**Output**:\n",
    "```text\n",
    "true\n",
    "```\n",
    "\n",
    "## Constraints:\n",
    "\n",
    "- `1 <= ransomNote.length, magazine.length <= 10^5`\n",
    "- `ransomNote` and `magazine` consist of lowercase English letters.\n"
   ]
  },
  {
   "cell_type": "code",
   "execution_count": 11,
   "metadata": {},
   "outputs": [
    {
     "name": "stderr",
     "output_type": "stream",
     "text": [
      "...\n",
      "----------------------------------------------------------------------\n",
      "Ran 3 tests in 0.004s\n",
      "\n",
      "OK\n"
     ]
    },
    {
     "data": {
      "text/plain": [
       "<unittest.main.TestProgram at 0x7e6dd95d5c10>"
      ]
     },
     "execution_count": 11,
     "metadata": {},
     "output_type": "execute_result"
    }
   ],
   "source": [
    "\n",
    "from collections import  Counter\n",
    "def canContruct(ransomNote: str, magazine: str) -> bool:\n",
    "    if len(ransomNote) > len(magazine): return False\n",
    "    \n",
    "    ransomNoteCount = Counter(ransomNote)\n",
    "    magazineCount = Counter(magazine)\n",
    "    \n",
    "    for key, value in ransomNoteCount.items():\n",
    "        if magazineCount[key] < value:\n",
    "            return False\n",
    "    \n",
    "    return True\n",
    "\n",
    "import unittest\n",
    "\n",
    "class TestDSA(unittest.TestCase):\n",
    "    \n",
    "    def test_example1(self):\n",
    "        ransomNote = \"a\"\n",
    "        magazine = \"b\"\n",
    "        expected = False\n",
    "        self.assertEqual(canContruct(ransomNote, magazine), expected)\n",
    "        \n",
    "    def test_example2(self):\n",
    "        ransomNote = \"aa\"\n",
    "        magazine = \"ab\"\n",
    "        expected = False\n",
    "        self.assertEqual(canContruct(ransomNote, magazine), expected)\n",
    "        \n",
    "    def test_example3(self):\n",
    "        ransomNote = \"aa\"\n",
    "        magazine = \"aab\"\n",
    "        expected = True\n",
    "        self.assertEqual(canContruct(ransomNote, magazine), expected)\n",
    "        \n",
    "unittest.main(argv=[\"\"], exit=False)\n",
    "        \n",
    "    "
   ]
  }
 ],
 "metadata": {
  "kernelspec": {
   "display_name": "venv",
   "language": "python",
   "name": "python3"
  },
  "language_info": {
   "codemirror_mode": {
    "name": "ipython",
    "version": 3
   },
   "file_extension": ".py",
   "mimetype": "text/x-python",
   "name": "python",
   "nbconvert_exporter": "python",
   "pygments_lexer": "ipython3",
   "version": "3.12.3"
  }
 },
 "nbformat": 4,
 "nbformat_minor": 2
}
