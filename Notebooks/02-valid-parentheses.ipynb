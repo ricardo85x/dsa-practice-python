{
 "cells": [
  {
   "cell_type": "markdown",
   "metadata": {},
   "source": [
    "# Valid Parentheses\n",
    "\n",
    "Given a string s containing just the characters \n",
    "'(', ')', '{', '}', '[' and ']', \n",
    "\n",
    "determine if the input string is valid.\n",
    "\n",
    "An input string is valid if:\n",
    " - Open brackets must be closed by the same type of brackets.\n",
    " - Open brackets must be closed in the correct order.\n",
    " - Every close bracket has a corresponding open bracket of the same type.\n",
    "\n",
    "## Example 1:\n",
    "Input: s = \"()\"\n",
    "Output: true\n",
    "\n",
    "## Example 2:\n",
    "Input: s = \"()[]{}\"\n",
    "Output: true\n",
    "\n",
    "## Example 3:\n",
    "Input: s = \"(]\"\n",
    "Output: false\n",
    "\n",
    "## Example 4:\n",
    "Input: s = \"([])\"\n",
    "Output: true\n",
    "\n",
    "## Constraints:\n",
    "1 <= s.length <= 104\n",
    "s consists of parentheses only '()[]{}'.\n"
   ]
  },
  {
   "cell_type": "code",
   "execution_count": 16,
   "metadata": {},
   "outputs": [
    {
     "name": "stdout",
     "output_type": "stream",
     "text": [
      "True\n"
     ]
    }
   ],
   "source": [
    "def is_valid(s: str) -> bool:\n",
    "    stack = []\n",
    "    parentheses = {\n",
    "        '(' : ')',\n",
    "        '{': '}',\n",
    "        '[': ']'\n",
    "    }\n",
    "\n",
    "    for char in s:\n",
    "        if char in parentheses:\n",
    "            stack.append(char)\n",
    "        else:\n",
    "            if not stack:\n",
    "                return False\n",
    "            opening = stack.pop()\n",
    "            if parentheses[opening] != char:\n",
    "                return False\n",
    "    return not stack\n",
    "\n",
    "print(is_valid(\"[]\"))\n",
    "            \n",
    "            "
   ]
  }
 ],
 "metadata": {
  "kernelspec": {
   "display_name": "venv",
   "language": "python",
   "name": "python3"
  },
  "language_info": {
   "codemirror_mode": {
    "name": "ipython",
    "version": 3
   },
   "file_extension": ".py",
   "mimetype": "text/x-python",
   "name": "python",
   "nbconvert_exporter": "python",
   "pygments_lexer": "ipython3",
   "version": "3.12.3"
  }
 },
 "nbformat": 4,
 "nbformat_minor": 2
}
