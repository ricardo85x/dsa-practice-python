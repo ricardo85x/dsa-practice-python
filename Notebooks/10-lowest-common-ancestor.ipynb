{
 "cells": [
  {
   "cell_type": "markdown",
   "metadata": {},
   "source": [
    "# Lowest Common Ancestor of a Binary Search Tree\n",
    "\n",
    "\n",
    "Given a binary search tree (BST), find the lowest common ancestor (LCA) node of two given nodes in the BST.\n",
    "\n",
    "According to the definition of LCA on Wikipedia: “The lowest common ancestor is defined between two nodes p and q as the lowest node in T that has both p and q as descendants (where we allow a node to be a descendant of itself).”\n",
    "\n",
    "## Examples\n",
    "\n",
    "### Example 1\n",
    "**Input:**  \n",
    "`root = [6,2,8,0,4,7,9,null,null,3,5]`,  \n",
    "`p = 2`,  \n",
    "`q = 8`\n",
    "\n",
    "**Output:**  \n",
    "`6`\n",
    "\n",
    "**Explanation:**  \n",
    "The LCA of nodes 2 and 8 is 6.\n",
    "\n",
    "---\n",
    "\n",
    "### Example 2\n",
    "**Input:**  \n",
    "`root = [\n",
    "                                6,\n",
    "                            2,       8,\n",
    "                   0,          4 ,  7,    9,\n",
    "              null, null,     3, 5\n",
    "        ]`,  \n",
    "                        `p = 2`,  \n",
    "`q = 4`\n",
    "\n",
    "**Output:**  \n",
    "`2`\n",
    "\n",
    "**Explanation:**  \n",
    "The LCA of nodes 2 and 4 is 2, since a node can be a descendant of itself according to the LCA definition.\n",
    "\n",
    "---\n",
    "\n",
    "### Example 3\n",
    "**Input:**  \n",
    "`root = [2,1]`,  \n",
    "`p = 2`,  \n",
    "`q = 1`\n",
    "\n",
    "**Output:**  \n",
    "`2`\n",
    "\n",
    "## Constraints\n",
    "- The number of nodes in the tree is in the range `[2, 10^5]`.\n",
    "- `-10^9 <= Node.val <= 10^9`\n",
    "- All `Node.val` are unique.\n",
    "- `p != q`\n",
    "- `p` and `q` will exist in the BST.\n"
   ]
  },
  {
   "cell_type": "code",
   "execution_count": 1,
   "metadata": {},
   "outputs": [],
   "source": [
    "from rcd_package.tree_utils import TreeNode, lst_to_tree\n",
    "\n",
    "def lowest_common_ancestor(root: TreeNode, p: TreeNode, q: TreeNode) -> TreeNode:\n",
    "   \n",
    "   # 1: se root is none, no response\n",
    "   if not root:\n",
    "      return None\n",
    "   \n",
    "   # 2 se root = p ou q, resposta root\n",
    "   if root == p or root == q:\n",
    "      return root\n",
    "   \n",
    "   left = lowest_common_ancestor(root.left, p, q)\n",
    "   right = lowest_common_ancestor(root.right, p, q)\n",
    "   \n",
    "   \n",
    "   # 3: se left e right nao nulo, resposta root atual\n",
    "   if left and right:\n",
    "      return root\n",
    "   \n",
    "   if left:\n",
    "      return left\n",
    "   \n",
    "   return right\n",
    "   \n"
   ]
  },
  {
   "cell_type": "code",
   "execution_count": 2,
   "metadata": {},
   "outputs": [],
   "source": [
    "import unittest\n",
    "\n",
    "class TestDSA(unittest.TestCase):\n",
    "    \n",
    "    def find_node(self, root: TreeNode, val: int) -> TreeNode:\n",
    "        \"\"\"Helper function to find node by val.\"\"\"\n",
    "        if not root:\n",
    "            return None\n",
    "        if root.val == val:\n",
    "            return root\n",
    "        left = self.find_node(root.left, val)\n",
    "        if left:\n",
    "            return left\n",
    "        return self.find_node(root.right, val)\n",
    "    \n",
    "    def test_example1(self):\n",
    "        root = lst_to_tree([6, 2, 8, 0, 4, 7, 9, None, None, 3, 5])\n",
    "        p = self.find_node(root, 2) \n",
    "        q = self.find_node(root, 8)\n",
    "        expected_output = 6\n",
    "        self.assertEqual(lowest_common_ancestor(root, p, q).val, expected_output)\n",
    "        \n",
    "    def test_example2(self):\n",
    "        root = lst_to_tree([6, 2, 8, 0, 4, 7, 9, None, None, 3, 5])\n",
    "        p = self.find_node(root, 2)\n",
    "        q = self.find_node(root, 4)\n",
    "        expected_output = 2\n",
    "        self.assertEqual(lowest_common_ancestor(root, p, q).val, expected_output)\n",
    "\n",
    "    def test_example3(self):\n",
    "        root = lst_to_tree([2, 1])\n",
    "        p = self.find_node(root, 2)  \n",
    "        q = self.find_node(root, 1) \n",
    "        expected_output = 2\n",
    "        self.assertEqual(lowest_common_ancestor(root, p, q).val, expected_output)\n",
    "\n",
    "        "
   ]
  },
  {
   "cell_type": "code",
   "execution_count": 3,
   "metadata": {},
   "outputs": [
    {
     "name": "stderr",
     "output_type": "stream",
     "text": [
      "...\n",
      "----------------------------------------------------------------------\n",
      "Ran 3 tests in 0.002s\n",
      "\n",
      "OK\n"
     ]
    },
    {
     "data": {
      "text/plain": [
       "<unittest.main.TestProgram at 0x70a8c8734080>"
      ]
     },
     "execution_count": 3,
     "metadata": {},
     "output_type": "execute_result"
    }
   ],
   "source": [
    "unittest.main(argv=[\"\"], exit=False)"
   ]
  }
 ],
 "metadata": {
  "kernelspec": {
   "display_name": "venv",
   "language": "python",
   "name": "python3"
  },
  "language_info": {
   "codemirror_mode": {
    "name": "ipython",
    "version": 3
   },
   "file_extension": ".py",
   "mimetype": "text/x-python",
   "name": "python",
   "nbconvert_exporter": "python",
   "pygments_lexer": "ipython3",
   "version": "3.12.3"
  }
 },
 "nbformat": 4,
 "nbformat_minor": 2
}
